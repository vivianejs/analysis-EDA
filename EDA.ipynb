{
  "cells": [
    {
      "cell_type": "markdown",
      "metadata": {},
      "source": "# 📊 EDA — Film Insights Lab\n\nNotebook de **Exploração de Dados (EDA)** para o dataset de filmes.\n- Caminho padrão do CSV: `data/movies.csv`\n- Gráficos usando **matplotlib** (sem seaborn), um gráfico por célula.\n- **Objetivos**: qualidade de dados, estatísticas, correlações, distribuição de variáveis, texto (Overview) e insights rápidos.\n\n> Gerado automaticamente em 2025-09-10."
    },
    {
      "cell_type": "code",
      "execution_count": null,
      "metadata": {},
      "outputs": [],
      "source": "# %% [setup]\nimport os\nimport math\nimport numpy as np\nimport pandas as pd\nimport matplotlib.pyplot as plt\n\npd.set_option(\"display.max_columns\", 100)\npd.set_option(\"display.width\", 120)\n\nCSV_PATH = \"data/movies.csv\"  # ajuste se necessário\nassert os.path.exists(CSV_PATH), f\"Não encontrei o arquivo: {CSV_PATH}\"\ndf_raw = pd.read_csv(CSV_PATH)\ndf_raw.head()"
    },
    {
      "cell_type": "markdown",
      "metadata": {},
      "source": "## 1. Visão Geral do Dataset"
    },
    {
      "cell_type": "code",
      "execution_count": null,
      "metadata": {},
      "outputs": [],
      "source": "# Dimensões, colunas, dtypes\nprint(\"Shape:\", df_raw.shape)\ndisplay(pd.DataFrame({\n    \"coluna\": df_raw.columns,\n    \"dtype\": [str(t) for t in df_raw.dtypes],\n}).reset_index(drop=True))\n\ndf_raw.sample(min(5, len(df_raw)), random_state=42)"
    },
    {
      "cell_type": "markdown",
      "metadata": {},
      "source": "## 2. Valores Ausentes (Missing)"
    },
    {
      "cell_type": "code",
      "execution_count": null,
      "metadata": {},
      "outputs": [],
      "source": "missing = df_raw.isna().sum().sort_values(ascending=False)\nmissing_pct = (missing / len(df_raw) * 100).round(2)\nmiss_df = pd.DataFrame({\"missing\": missing, \"missing_%\": missing_pct})\ndisplay(miss_df)\n\n# Gráfico de barras dos missing\nplt.figure()\nmiss_df[\"missing_%\"].plot(kind=\"bar\")\nplt.title(\"Percentual de Missing por Coluna\")\nplt.xlabel(\"Colunas\")\nplt.ylabel(\"% Missing\")\nplt.tight_layout()\nplt.show()"
    },
    {
      "cell_type": "markdown",
      "metadata": {},
      "source": "## 3. Duplicatas"
    },
    {
      "cell_type": "code",
      "execution_count": null,
      "metadata": {},
      "outputs": [],
      "source": "dups = df_raw.duplicated().sum()\nprint(f\"Duplicatas (linhas idênticas): {dups}\")"
    },
    {
      "cell_type": "markdown",
      "metadata": {},
      "source": "## 4. Padronização mínima para análises"
    },
    {
      "cell_type": "code",
      "execution_count": null,
      "metadata": {},
      "outputs": [],
      "source": "import re\n\ndef _to_minutes(runtime):\n    if pd.isna(runtime): return None\n    m = re.search(r\"(\\d+)\", str(runtime))\n    return int(m.group(1)) if m else None\n\ndef _to_year(s):\n    if pd.isna(s): return None\n    m = re.search(r\"(\\d{4})\", str(s))\n    return int(m.group(1)) if m else None\n\ndef _to_gross_number(g):\n    if pd.isna(g): return None\n    s = str(g).strip().replace(\"$\", \"\").replace(\",\", \"\")\n    try:\n        return float(s)\n    except ValueError:\n        return None\n\ndf = df_raw.copy()\n# renomeia se houver colunas usuais do IMDb Top 1000\nrename_map = {\n    \"Series_Title\": \"Title\",\n    \"Released_Year\": \"Year\",\n    \"Runtime\": \"Runtime\",\n    \"Genre\": \"Genre\",\n    \"IMDB_Rating\": \"IMDB_Rating\",\n    \"Overview\": \"Overview\",\n    \"Meta_score\": \"Meta_score\",\n    \"Director\": \"Director\",\n    \"No_of_Votes\": \"No_of_Votes\",\n    \"Gross\": \"Gross\",\n    \"Certificate\": \"Certificate\",\n}\ndf = df.rename(columns={k: v for k, v in rename_map.items() if k in df.columns})\n\nif \"Runtime\" in df.columns:\n    df[\"Runtime_min\"] = df[\"Runtime\"].apply(_to_minutes)\nif \"Year\" in df.columns:\n    df[\"Year_num\"] = df[\"Year\"].apply(_to_year)\nif \"Gross\" in df.columns:\n    df[\"Gross_clean\"] = df[\"Gross\"].apply(_to_gross_number)\nif \"Genre\" in df.columns:\n    df[\"Genre_main\"] = df[\"Genre\"].astype(str).apply(lambda s: s.split(\",\")[0].strip() if s and s!=\"nan\" else None)\nif \"Overview\" in df.columns:\n    df[\"Overview\"] = df[\"Overview\"].astype(str).fillna(\"\")\ndf.head()"
    },
    {
      "cell_type": "markdown",
      "metadata": {},
      "source": "## 5. Estatísticas Descritivas"
    },
    {
      "cell_type": "code",
      "execution_count": null,
      "metadata": {},
      "outputs": [],
      "source": "num_cols = [c for c in [\"Runtime_min\",\"Year_num\",\"IMDB_Rating\",\"Meta_score\",\"No_of_Votes\",\"Gross_clean\"] if c in df.columns]\ndisplay(df[num_cols].describe().T)"
    },
    {
      "cell_type": "markdown",
      "metadata": {},
      "source": "## 6. Correlações (numéricas)"
    },
    {
      "cell_type": "code",
      "execution_count": null,
      "metadata": {},
      "outputs": [],
      "source": "if len(num_cols) >= 2:\n    corr = df[num_cols].corr(numeric_only=True)\n    display(corr)\n\n    # Heatmap simples com matplotlib (sem seaborn)\n    plt.figure()\n    im = plt.imshow(corr.values, interpolation=\"nearest\")\n    plt.title(\"Matriz de Correlações\")\n    plt.xticks(range(len(corr.columns)), corr.columns, rotation=45, ha=\"right\")\n    plt.yticks(range(len(corr.index)), corr.index)\n    plt.colorbar(im, fraction=0.046, pad=0.04)\n    plt.tight_layout()\n    plt.show()\nelse:\n    print(\"Poucas colunas numéricas para correlação.\")"
    },
    {
      "cell_type": "markdown",
      "metadata": {},
      "source": "## 7. Distribuições univariadas"
    },
    {
      "cell_type": "code",
      "execution_count": null,
      "metadata": {},
      "outputs": [],
      "source": "for col in num_cols:\n    plt.figure()\n    df[col].dropna().hist(bins=30)\n    plt.title(f\"Distribuição de {col}\")\n    plt.xlabel(col)\n    plt.ylabel(\"Frequência\")\n    plt.tight_layout()\n    plt.show()"
    },
    {
      "cell_type": "markdown",
      "metadata": {},
      "source": "## 8. Categóricas — contagens"
    },
    {
      "cell_type": "code",
      "execution_count": null,
      "metadata": {},
      "outputs": [],
      "source": "for col in [\"Genre_main\", \"Certificate\", \"Director\"]:\n    if col in df.columns:\n        vc = df[col].value_counts().head(20)\n        display(vc.to_frame(name=\"count\"))\n        plt.figure()\n        vc.plot(kind=\"bar\")\n        plt.title(f\"Top categorias — {col}\")\n        plt.xlabel(col)\n        plt.ylabel(\"Contagem\")\n        plt.tight_layout()\n        plt.show()"
    },
    {
      "cell_type": "markdown",
      "metadata": {},
      "source": "## 9. Texto (Overview) — tamanho e exemplos"
    },
    {
      "cell_type": "code",
      "execution_count": null,
      "metadata": {},
      "outputs": [],
      "source": "if \"Overview\" in df.columns:\n    lens = df[\"Overview\"].astype(str).apply(len)\n    plt.figure()\n    lens.hist(bins=30)\n    plt.title(\"Distribuição do tamanho do Overview (n caracteres)\")\n    plt.xlabel(\"n caracteres\")\n    plt.ylabel(\"Frequência\")\n    plt.tight_layout()\n    plt.show()\n\n    # Exemplos\n    display(df[[\"Title\",\"Overview\"]].dropna().head(5))\nelse:\n    print(\"Coluna 'Overview' não encontrada.\")"
    },
    {
      "cell_type": "markdown",
      "metadata": {},
      "source": "## 10. Relações interessantes (dispersões)"
    },
    {
      "cell_type": "code",
      "execution_count": null,
      "metadata": {},
      "outputs": [],
      "source": "pairs = [\n    (\"No_of_Votes\", \"IMDB_Rating\"),\n    (\"Meta_score\", \"IMDB_Rating\"),\n    (\"Year_num\", \"IMDB_Rating\"),\n    (\"Runtime_min\", \"IMDB_Rating\"),\n]\nfor x, y in pairs:\n    if x in df.columns and y in df.columns:\n        plt.figure()\n        plt.scatter(df[x], df[y], alpha=0.4)\n        plt.title(f\"{y} vs {x}\")\n        plt.xlabel(x)\n        plt.ylabel(y)\n        plt.tight_layout()\n        plt.show()"
    },
    {
      "cell_type": "markdown",
      "metadata": {},
      "source": "## 11. Tendência temporal (Year_num)"
    },
    {
      "cell_type": "code",
      "execution_count": null,
      "metadata": {},
      "outputs": [],
      "source": "if \"Year_num\" in df.columns and \"IMDB_Rating\" in df.columns:\n    yearly = df.groupby(\"Year_num\")[\"IMDB_Rating\"].mean().sort_index()\n    if len(yearly) > 0:\n        r = yearly.rolling(3, min_periods=1).mean()\n        plt.figure()\n        plt.plot(yearly.index, yearly.values, marker=\"o\", linestyle=\"-\", alpha=0.5)\n        plt.plot(r.index, r.values, linestyle=\"-\")\n        plt.title(\"IMDb Rating médio por ano (linha) e média móvel (3)\")\n        plt.xlabel(\"Ano\")\n        plt.ylabel(\"IMDb Rating (média)\")\n        plt.tight_layout()\n        plt.show()\nelse:\n    print(\"Sem colunas Year_num/IMDB_Rating suficientes para tendência.\")"
    },
    {
      "cell_type": "markdown",
      "metadata": {},
      "source": "## 12. (Cuidado com leakage) Gross vs variáveis"
    },
    {
      "cell_type": "code",
      "execution_count": null,
      "metadata": {},
      "outputs": [],
      "source": "if \"Gross_clean\" in df.columns:\n    for x in [\"No_of_Votes\", \"Meta_score\", \"IMDB_Rating\", \"Year_num\"]:\n        if x in df.columns:\n            plt.figure()\n            plt.scatter(df[x], df[\"Gross_clean\"], alpha=0.4)\n            plt.title(f\"Gross_clean vs {x}\")\n            plt.xlabel(x)\n            plt.ylabel(\"Gross_clean\")\n            plt.tight_layout()\n            plt.show()\nelse:\n    print(\"Sem 'Gross_clean' para analisar.\")"
    },
    {
      "cell_type": "markdown",
      "metadata": {},
      "source": "---\n\n### ✅ Checklist rápido\n- Colunas padronizadas (`Runtime_min`, `Year_num`, `Gross_clean`, `Genre_main`).\n- Conferência de missing e duplicatas.\n- Estatísticas descritivas e correlações.\n- Distribuições e relações principais.\n- Overview (texto) inspecionado por tamanho e exemplos.\n\n> Próximo passo: usar `src/filmlab/train.py` para treinar **genre**, **rating** e **gross**, evitando *leakage*."
    }
  ],
  "metadata": {
    "kernelspec": {
      "display_name": "Python 3",
      "language": "python",
      "name": "python3"
    },
    "language_info": {
      "name": "python",
      "version": "3.x"
    }
  },
  "nbformat": 4,
  "nbformat_minor": 5
}